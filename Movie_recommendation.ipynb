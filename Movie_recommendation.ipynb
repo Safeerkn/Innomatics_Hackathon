{
 "cells": [
  {
   "cell_type": "code",
   "execution_count": 1,
   "id": "116fd1ce",
   "metadata": {},
   "outputs": [],
   "source": [
    "import pandas as pd\n",
    "import numpy as np\n",
    "import matplotlib.pyplot as plt"
   ]
  },
  {
   "cell_type": "code",
   "execution_count": 2,
   "id": "55e8c2ff",
   "metadata": {},
   "outputs": [],
   "source": [
    "movies_df=pd.read_csv('movies.csv')\n",
    "ratings_df=pd.read_csv('ratings.csv')\n",
    "links_df=pd.read_csv('links.csv')\n",
    "tags_df=pd.read_csv('tags.csv')"
   ]
  },
  {
   "cell_type": "code",
   "execution_count": 3,
   "id": "4c973bb8",
   "metadata": {},
   "outputs": [
    {
     "name": "stdout",
     "output_type": "stream",
     "text": [
      "<class 'pandas.core.frame.DataFrame'>\n",
      "RangeIndex: 9742 entries, 0 to 9741\n",
      "Data columns (total 3 columns):\n",
      " #   Column   Non-Null Count  Dtype \n",
      "---  ------   --------------  ----- \n",
      " 0   movieId  9742 non-null   int64 \n",
      " 1   title    9742 non-null   object\n",
      " 2   genres   9742 non-null   object\n",
      "dtypes: int64(1), object(2)\n",
      "memory usage: 228.5+ KB\n"
     ]
    }
   ],
   "source": [
    "movies_df.info()"
   ]
  },
  {
   "cell_type": "code",
   "execution_count": 4,
   "id": "e2f3c2b3",
   "metadata": {},
   "outputs": [
    {
     "name": "stdout",
     "output_type": "stream",
     "text": [
      "<class 'pandas.core.frame.DataFrame'>\n",
      "RangeIndex: 100836 entries, 0 to 100835\n",
      "Data columns (total 4 columns):\n",
      " #   Column     Non-Null Count   Dtype  \n",
      "---  ------     --------------   -----  \n",
      " 0   userId     100836 non-null  int64  \n",
      " 1   movieId    100836 non-null  int64  \n",
      " 2   rating     100836 non-null  float64\n",
      " 3   timestamp  100836 non-null  int64  \n",
      "dtypes: float64(1), int64(3)\n",
      "memory usage: 3.1 MB\n"
     ]
    }
   ],
   "source": [
    "ratings_df.info()"
   ]
  },
  {
   "cell_type": "code",
   "execution_count": 5,
   "id": "d79cf00c",
   "metadata": {},
   "outputs": [
    {
     "data": {
      "text/html": [
       "<div>\n",
       "<style scoped>\n",
       "    .dataframe tbody tr th:only-of-type {\n",
       "        vertical-align: middle;\n",
       "    }\n",
       "\n",
       "    .dataframe tbody tr th {\n",
       "        vertical-align: top;\n",
       "    }\n",
       "\n",
       "    .dataframe thead th {\n",
       "        text-align: right;\n",
       "    }\n",
       "</style>\n",
       "<table border=\"1\" class=\"dataframe\">\n",
       "  <thead>\n",
       "    <tr style=\"text-align: right;\">\n",
       "      <th></th>\n",
       "      <th>userId</th>\n",
       "      <th>movieId</th>\n",
       "      <th>rating</th>\n",
       "      <th>timestamp</th>\n",
       "    </tr>\n",
       "  </thead>\n",
       "  <tbody>\n",
       "    <tr>\n",
       "      <th>0</th>\n",
       "      <td>1</td>\n",
       "      <td>1</td>\n",
       "      <td>4.0</td>\n",
       "      <td>964982703</td>\n",
       "    </tr>\n",
       "    <tr>\n",
       "      <th>1</th>\n",
       "      <td>1</td>\n",
       "      <td>3</td>\n",
       "      <td>4.0</td>\n",
       "      <td>964981247</td>\n",
       "    </tr>\n",
       "    <tr>\n",
       "      <th>2</th>\n",
       "      <td>1</td>\n",
       "      <td>6</td>\n",
       "      <td>4.0</td>\n",
       "      <td>964982224</td>\n",
       "    </tr>\n",
       "    <tr>\n",
       "      <th>3</th>\n",
       "      <td>1</td>\n",
       "      <td>47</td>\n",
       "      <td>5.0</td>\n",
       "      <td>964983815</td>\n",
       "    </tr>\n",
       "    <tr>\n",
       "      <th>4</th>\n",
       "      <td>1</td>\n",
       "      <td>50</td>\n",
       "      <td>5.0</td>\n",
       "      <td>964982931</td>\n",
       "    </tr>\n",
       "  </tbody>\n",
       "</table>\n",
       "</div>"
      ],
      "text/plain": [
       "   userId  movieId  rating  timestamp\n",
       "0       1        1     4.0  964982703\n",
       "1       1        3     4.0  964981247\n",
       "2       1        6     4.0  964982224\n",
       "3       1       47     5.0  964983815\n",
       "4       1       50     5.0  964982931"
      ]
     },
     "execution_count": 5,
     "metadata": {},
     "output_type": "execute_result"
    }
   ],
   "source": [
    "ratings_df.head()"
   ]
  },
  {
   "cell_type": "code",
   "execution_count": 6,
   "id": "462c1e17",
   "metadata": {},
   "outputs": [],
   "source": [
    "unique_userId=ratings_df['userId'].nunique()"
   ]
  },
  {
   "cell_type": "code",
   "execution_count": 7,
   "id": "50eddba8",
   "metadata": {},
   "outputs": [
    {
     "data": {
      "text/plain": [
       "610"
      ]
     },
     "execution_count": 7,
     "metadata": {},
     "output_type": "execute_result"
    }
   ],
   "source": [
    "unique_userId"
   ]
  },
  {
   "cell_type": "code",
   "execution_count": 8,
   "id": "ff3a0f07",
   "metadata": {},
   "outputs": [
    {
     "name": "stdout",
     "output_type": "stream",
     "text": [
      "Movie ID with the maximum number of ratings: 356\n",
      "Number of ratings: 329\n",
      "Title of the movie with the maximum number of ratings: Forrest Gump (1994)\n"
     ]
    }
   ],
   "source": [
    "rating_counts = ratings_df.groupby('movieId').size()\n",
    "\n",
    "most_rated_movie_id = rating_counts.idxmax()\n",
    "most_rated_movie_count = rating_counts.max()\n",
    "\n",
    "print(f\"Movie ID with the maximum number of ratings: {most_rated_movie_id}\")\n",
    "print(f\"Number of ratings: {most_rated_movie_count}\")\n",
    "\n",
    "\n",
    "most_rated_movie = movies_df[movies_df['movieId'] == most_rated_movie_id]['title'].values[0]\n",
    "\n",
    "print(f\"Title of the movie with the maximum number of ratings: {most_rated_movie}\")"
   ]
  },
  {
   "cell_type": "code",
   "execution_count": 11,
   "id": "7da4464f",
   "metadata": {},
   "outputs": [
    {
     "name": "stdout",
     "output_type": "stream",
     "text": [
      "Tags for 'Matrix, The (1999)':\n",
      "                     tag\n",
      "815         martial arts\n",
      "816               sci-fi\n",
      "1646  alternate universe\n",
      "2794          philosophy\n",
      "2795    post apocalyptic\n"
     ]
    }
   ],
   "source": [
    "matrix_movie_id = movies_df[movies_df['title'] == 'Matrix, The (1999)']['movieId'].values[0]\n",
    "\n",
    "matrix_tags = tags_df[tags_df['movieId'] == matrix_movie_id]\n",
    "\n",
    "print(f\"Tags for 'Matrix, The (1999)':\")\n",
    "print(matrix_tags[['tag']])"
   ]
  },
  {
   "cell_type": "code",
   "execution_count": 12,
   "id": "eb44cde6",
   "metadata": {},
   "outputs": [
    {
     "name": "stdout",
     "output_type": "stream",
     "text": [
      "Average rating for 'Terminator 2: Judgment Day (1991)': 3.97\n"
     ]
    }
   ],
   "source": [
    "terminator_movie_id = movies_df[movies_df['title'] == 'Terminator 2: Judgment Day (1991)']['movieId'].values[0]\n",
    "\n",
    "terminator_ratings = ratings_df[ratings_df['movieId'] == terminator_movie_id]\n",
    "\n",
    "average_rating = terminator_ratings['rating'].mean()\n",
    "\n",
    "print(f\"Average rating for 'Terminator 2: Judgment Day (1991)': {average_rating:.2f}\")"
   ]
  },
  {
   "cell_type": "code",
   "execution_count": 13,
   "id": "c9aa12cf",
   "metadata": {},
   "outputs": [
    {
     "data": {
      "image/png": "[encoded data removed]",
      "text/plain": [
       "<Figure size 1000x600 with 1 Axes>"
      ]
     },
     "metadata": {},
     "output_type": "display_data"
    }
   ],
   "source": [
    "fight_club_movie_id = movies_df[movies_df['title'] == 'Fight Club (1999)']['movieId'].values[0]\n",
    "\n",
    "fight_club_ratings = ratings_df[ratings_df['movieId'] == fight_club_movie_id]\n",
    "\n",
    "plt.figure(figsize=(10, 6))\n",
    "plt.hist(fight_club_ratings['rating'], bins=5, edgecolor='black', alpha=0.7)\n",
    "plt.title('Distribution of User Ratings for \"Fight Club (1999)\"')\n",
    "plt.xlabel('Rating')\n",
    "plt.ylabel('Frequency')\n",
    "plt.xticks([1, 2, 3, 4, 5])\n",
    "plt.grid(True)\n",
    "plt.show()"
   ]
  },
  {
   "cell_type": "markdown",
   "id": "6e60a647",
   "metadata": {},
   "source": [
    "### So from the above Graph it's very clear the distribution is left skewed"
   ]
  },
  {
   "cell_type": "code",
   "execution_count": 15,
   "id": "15679b0f",
   "metadata": {},
   "outputs": [
    {
     "name": "stdout",
     "output_type": "stream",
     "text": [
      "      movieId                             title  \\\n",
      "0           1                  Toy Story (1995)   \n",
      "1           2                    Jumanji (1995)   \n",
      "2           3           Grumpier Old Men (1995)   \n",
      "5           6                       Heat (1995)   \n",
      "6           7                    Sabrina (1995)   \n",
      "...       ...                               ...   \n",
      "8287   106782   Wolf of Wall Street, The (2013)   \n",
      "8354   109374  Grand Budapest Hotel, The (2014)   \n",
      "8358   109487               Interstellar (2014)   \n",
      "8457   112852    Guardians of the Galaxy (2014)   \n",
      "8673   122904                   Deadpool (2016)   \n",
      "\n",
      "                                           genres  rating_count  avg_rating  \n",
      "0     Adventure|Animation|Children|Comedy|Fantasy           215    3.920930  \n",
      "1                      Adventure|Children|Fantasy           110    3.431818  \n",
      "2                                  Comedy|Romance            52    3.259615  \n",
      "5                           Action|Crime|Thriller           102    3.946078  \n",
      "6                                  Comedy|Romance            54    3.185185  \n",
      "...                                           ...           ...         ...  \n",
      "8287                           Comedy|Crime|Drama            54    3.916667  \n",
      "8354                                 Comedy|Drama            52    3.778846  \n",
      "8358                                  Sci-Fi|IMAX            73    3.993151  \n",
      "8457                      Action|Adventure|Sci-Fi            59    4.050847  \n",
      "8673               Action|Adventure|Comedy|Sci-Fi            54    3.833333  \n",
      "\n",
      "[436 rows x 5 columns]\n"
     ]
    }
   ],
   "source": [
    "rating_agg = ratings_df.groupby('movieId').agg(rating_count=('rating', 'size'), avg_rating=('rating', 'mean')).reset_index()\n",
    "\n",
    "movies_with_ratings = pd.merge(movies_df, rating_agg, on='movieId')\n",
    "\n",
    "filtered_movies = movies_with_ratings[movies_with_ratings['rating_count'] > 50]\n",
    "\n",
    "print(filtered_movies)"
   ]
  },
  {
   "cell_type": "code",
   "execution_count": 17,
   "id": "6f271c3f",
   "metadata": {},
   "outputs": [
    {
     "name": "stdout",
     "output_type": "stream",
     "text": [
      "Most popular movie based on average user ratings: Shawshank Redemption, The (1994)\n"
     ]
    }
   ],
   "source": [
    "most_popular_movie = filtered_movies.sort_values(by='avg_rating', ascending=False).iloc[0]\n",
    "\n",
    "most_popular_movie_title = most_popular_movie['title']\n",
    "most_popular_movie_avg_rating = most_popular_movie['avg_rating']\n",
    "\n",
    "print(f\"Most popular movie based on average user ratings: {most_popular_movie_title}\")"
   ]
  },
  {
   "cell_type": "code",
   "execution_count": 19,
   "id": "56a28889",
   "metadata": {},
   "outputs": [
    {
     "name": "stdout",
     "output_type": "stream",
     "text": [
      "Top 5 popular movies based on number of user ratings:\n",
      "                                 title  rating_count\n",
      "314                Forrest Gump (1994)           329\n",
      "277   Shawshank Redemption, The (1994)           317\n",
      "257                Pulp Fiction (1994)           307\n",
      "510   Silence of the Lambs, The (1991)           279\n",
      "1938                Matrix, The (1999)           278\n"
     ]
    }
   ],
   "source": [
    "top_rated_movies = filtered_movies.sort_values(by='rating_count', ascending=False).head(5)\n",
    "\n",
    "top_5_movies = top_rated_movies[['title', 'rating_count']]\n",
    "\n",
    "print(\"Top 5 popular movies based on number of user ratings:\")\n",
    "print(top_5_movies)"
   ]
  },
  {
   "cell_type": "code",
   "execution_count": 21,
   "id": "f3c77976",
   "metadata": {},
   "outputs": [
    {
     "name": "stdout",
     "output_type": "stream",
     "text": [
      "The third most popular Sci-Fi movie based on number of user ratings: Jurassic Park (1993)\n",
      "Number of ratings: 238\n"
     ]
    }
   ],
   "source": [
    "sci_fi_movies = filtered_movies[filtered_movies['genres'].str.contains('Sci-Fi', case=False)]\n",
    "\n",
    "sci_fi_movies_sorted = sci_fi_movies.sort_values(by='rating_count', ascending=False)\n",
    "\n",
    "third_most_popular_sci_fi = sci_fi_movies_sorted.iloc[2]\n",
    "\n",
    "third_most_popular_sci_fi_title = third_most_popular_sci_fi['title']\n",
    "third_most_popular_sci_fi_rating_count = third_most_popular_sci_fi['rating_count']\n",
    "\n",
    "print(f\"The third most popular Sci-Fi movie based on number of user ratings: {third_most_popular_sci_fi_title}\")\n",
    "print(f\"Number of ratings: {third_most_popular_sci_fi_rating_count}\")"
   ]
  },
  {
   "cell_type": "code",
   "execution_count": 23,
   "id": "69afaf68",
   "metadata": {},
   "outputs": [
    {
     "name": "stdout",
     "output_type": "stream",
     "text": [
      "                     title  imdbId\n",
      "0         Toy Story (1995)  114709\n",
      "1           Jumanji (1995)  113497\n",
      "2  Grumpier Old Men (1995)  113228\n",
      "3              Heat (1995)  113277\n",
      "4           Sabrina (1995)  114319\n"
     ]
    }
   ],
   "source": [
    "movies_with_links = pd.merge(filtered_movies, links_df, on='movieId')\n",
    "\n",
    "print(movies_with_links[['title', 'imdbId']].head())"
   ]
  },
  {
   "cell_type": "code",
   "execution_count": null,
   "id": "c87eb749",
   "metadata": {},
   "outputs": [
    {
     "name": "stdout",
     "output_type": "stream",
     "text": [
      "Failed to retrieve reviews for 114709\n",
      "Failed to retrieve reviews for 113497\n",
      "Failed to retrieve reviews for 113228\n",
      "Failed to retrieve reviews for 113277\n",
      "Failed to retrieve reviews for 114319\n",
      "Failed to retrieve reviews for 113189\n",
      "Failed to retrieve reviews for 112346\n"
     ]
    }
   ],
   "source": [
    "import requests\n",
    "from bs4 import BeautifulSoup\n",
    "import time\n",
    "\n",
    "def scrape_imdb_reviews(imdb_id):\n",
    "    url = f\"https://www.imdb.com/title/{imdb_id}/reviews\"\n",
    "    headers = {\n",
    "        'User-Agent': 'Mozilla/5.0 (Windows NT 10.0; Win64; x64) AppleWebKit/537.36 (KHTML, like Gecko) Chrome/58.0.3029.110 Safari/537.3'}\n",
    "    \n",
    "    response = requests.get(url, headers=headers)\n",
    "    if response.status_code != 200:\n",
    "        print(f\"Failed to retrieve reviews for {imdb_id}\")\n",
    "        return None\n",
    "    \n",
    "    soup = BeautifulSoup(response.content, 'html.parser')\n",
    "    reviews = []\n",
    "    \n",
    "    review_containers = soup.find_all('div', class_='text show-more__control')\n",
    "    for container in review_containers:\n",
    "        review_text = container.get_text(strip=True)\n",
    "        reviews.append(review_text)\n",
    "\n",
    "    return reviews\n",
    "\n",
    "all_reviews = {}\n",
    "for _, row in movies_with_links.iterrows():\n",
    "    imdb_id = row['imdbId']\n",
    "    reviews = scrape_imdb_reviews(imdb_id)\n",
    "    if reviews:\n",
    "        all_reviews[row['title']] = reviews\n",
    "    time.sleep(2)\n",
    "\n",
    "import json\n",
    "\n",
    "with open('imdb_reviews.json', 'w') as f:\n",
    "    json.dump(all_reviews, f, indent=4)"
   ]
  },
  {
   "cell_type": "code",
   "execution_count": null,
   "id": "c7ee6d97",
   "metadata": {},
   "outputs": [],
   "source": []
  }
 ],
 "metadata": {
  "kernelspec": {
   "display_name": "Python 3 (ipykernel)",
   "language": "python",
   "name": "python3"
  },
  "language_info": {
   "codemirror_mode": {
    "name": "ipython",
    "version": 3
   },
   "file_extension": ".py",
   "mimetype": "text/x-python",
   "name": "python",
   "nbconvert_exporter": "python",
   "pygments_lexer": "ipython3",
   "version": "3.11.5"
  }
 },
 "nbformat": 4,
 "nbformat_minor": 5
}
